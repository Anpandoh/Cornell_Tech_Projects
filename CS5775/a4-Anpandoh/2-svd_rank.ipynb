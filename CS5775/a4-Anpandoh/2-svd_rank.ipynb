{
 "cells": [
  {
   "cell_type": "markdown",
   "metadata": {
    "collapsed": false
   },
   "source": [
    "# Low-Rank Approximation\n",
    "\n",
    "In this section, you will be asked to investigated how the trade-off between\n",
    "the selected ranks of SVD and its performance in terms of reconstruction\n",
    "accuracy and speed-up (in clock-time and in FLOPS)."
   ]
  },
  {
   "cell_type": "markdown",
   "metadata": {
    "collapsed": false
   },
   "source": [
    "## 1. Set-up"
   ]
  },
  {
   "cell_type": "code",
   "execution_count": null,
   "metadata": {
    "collapsed": false,
    "pycharm": {
     "name": "#%%\n"
    }
   },
   "outputs": [],
   "source": [
    "# Mount google drive\n",
    "from google.colab import drive\n",
    "drive.mount('/content/gdrive')"
   ]
  },
  {
   "cell_type": "code",
   "execution_count": null,
   "metadata": {
    "collapsed": false,
    "pycharm": {
     "name": "#%%\n"
    }
   },
   "outputs": [],
   "source": [
    "# Make sure your token is stored in a txt file at the location below.\n",
    "# This way there is no risk that you will push it to your repo\n",
    "# Never share your token with anyone, it is basically your github password!\n",
    "with open('/content/gdrive/MyDrive/ece5545/token.txt') as f:\n",
    "    token = f.readline().strip()\n",
    "# Use another file to store your github username\n",
    "with open('/content/gdrive/MyDrive/ece5545/git_username.txt') as f:\n",
    "    handle = f.readline().strip()"
   ]
  },
  {
   "cell_type": "code",
   "execution_count": null,
   "metadata": {
    "collapsed": false,
    "pycharm": {
     "name": "#%%\n"
    }
   },
   "outputs": [],
   "source": [
    "# Clone your github repo\n",
    "YOUR_TOKEN = token\n",
    "YOUR_HANDLE = handle\n",
    "BRANCH = \"main\"\n",
    "\n",
    "%mkdir /content/gdrive/MyDrive/ece5545\n",
    "%cd /content/gdrive/MyDrive/ece5545\n",
    "!git clone https://{YOUR_TOKEN}@github.com/ML-HW-SYS/a4-{YOUR_HANDLE}.git\n",
    "%cd /content/gdrive/MyDrive/ece5545/a4-{YOUR_HANDLE}\n",
    "!git checkout {BRANCH}\n",
    "!git pull\n",
    "\n",
    "PROJECT_ROOT = f\"/content/gdrive/MyDrive/ece5545/a4-{YOUR_HANDLE}\""
   ]
  },
  {
   "cell_type": "code",
   "execution_count": null,
   "metadata": {
    "collapsed": false,
    "pycharm": {
     "name": "#%%\n"
    }
   },
   "outputs": [],
   "source": [
    "# This extension reloads all imports before running each cell\n",
    "%load_ext autoreload\n",
    "%autoreload 2"
   ]
  },
  {
   "cell_type": "markdown",
   "metadata": {
    "collapsed": false
   },
   "source": [
    "Verify the following cell prints your github repository."
   ]
  },
  {
   "cell_type": "code",
   "execution_count": null,
   "metadata": {
    "collapsed": false,
    "pycharm": {
     "name": "#%%\n"
    }
   },
   "outputs": [],
   "source": [
    "!ls {PROJECT_ROOT}\n"
   ]
  },
  {
   "cell_type": "code",
   "execution_count": null,
   "metadata": {
    "collapsed": false,
    "pycharm": {
     "name": "#%%\n"
    }
   },
   "outputs": [],
   "source": [
    "# Install required packgaes\n",
    "!pip install torch numpy matplotlib"
   ]
  },
  {
   "cell_type": "markdown",
   "metadata": {
    "collapsed": false
   },
   "source": [
    "# 2. Rank v.s. Reconstruction Error\n",
    "\n",
    "In this following cell(s), please plot the number of ranks preserved for A matrix (in the x-axis)\n",
    "and the reconstruction error of the matrix (in the y-axis, measured by the Frobenius Norm).\n",
    "\n",
    "NOTE: you can use `svd(A, torch.eye(A.shape(2), rank_A=<rank>, rank_B=None)` to do SVD, drop the rank\n",
    "to `<rank>`, and return the reconstruction matrix of `A`.\n",
    "\n",
    "We will provide a series of matrix for you to study. Please make one plot per matrix.\n",
    "For each plot, comment on the trade-off between the number of ranks selected and the error by answering\n",
    "the following questions:\n",
    "1. Is the reconstruction error increasing or decreasing as we add more rank?\n",
    "2. How fast is the reconstruction error change as we add more rank? Is it changing quickly or slowly? Why?\n",
    "3. Is there a rank number below/above which the reconstruction error increase significantly?\n",
    "4. What can you learn about this data?"
   ]
  },
  {
   "cell_type": "code",
   "execution_count": null,
   "metadata": {
    "collapsed": false,
    "pycharm": {
     "name": "#%%\n"
    }
   },
   "outputs": [],
   "source": [
    "from src.matmul import svd\n",
    "import torch\n",
    "import matplotlib.image\n",
    "# Pixels of a cute cat\n",
    "A = torch.from_numpy(matplotlib.image.imread(\"data/cat.png\")).view(-1, 3)\n",
    "\n",
    "\n",
    "import numpy as np\n",
    "import matplotlib.pyplot as plt\n",
    "\n",
    "# Get original dimensions\n",
    "m, n = A.shape\n",
    "\n",
    "# Test different ranks\n",
    "ranks = np.arange(1, min(m, n), 5)  # Step by 5 to reduce computation time\n",
    "errors = []\n",
    "\n",
    "# Calculate reconstruction error for each rank\n",
    "for r in ranks:\n",
    "    # Get reconstructed matrix using SVD with specified rank\n",
    "    A_reconstructed = svd(A, torch.eye(n), rank_A=r, rank_B=None)\n",
    "    \n",
    "    # Calculate Frobenius norm of difference\n",
    "    error = torch.norm(A - A_reconstructed, p='fro').item()\n",
    "    errors.append(error)\n",
    "\n",
    "# Plot results\n",
    "plt.figure(figsize=(10, 6))\n",
    "plt.plot(ranks, errors, 'b-', marker='o')\n",
    "plt.xlabel('Number of Ranks Preserved')\n",
    "plt.ylabel('Reconstruction Error (Frobenius Norm)')\n",
    "plt.title('SVD Reconstruction Error vs Rank for Image Matrix')\n",
    "plt.grid(True)\n",
    "plt.show()"
   ]
  },
  {
   "cell_type": "code",
   "execution_count": null,
   "metadata": {
    "collapsed": false,
    "pycharm": {
     "name": "#%%\n"
    }
   },
   "outputs": [],
   "source": [
    "# A batch of MNIST digit\n",
    "import torch\n",
    "A = torch.load(\"data/mnist_act.pt\")['act.0']"
   ]
  },
  {
   "cell_type": "code",
   "execution_count": null,
   "metadata": {
    "collapsed": false,
    "pycharm": {
     "name": "#%%\n"
    }
   },
   "outputs": [],
   "source": [
    "import torch\n",
    "# A random matrix\n",
    "A = torch.randn(512, 512)"
   ]
  },
  {
   "cell_type": "code",
   "execution_count": null,
   "metadata": {
    "collapsed": false,
    "pycharm": {
     "name": "#%%\n"
    }
   },
   "outputs": [],
   "source": [
    "import torch\n",
    "# Intermediate activation of a Fully connected network (trained on MNIST)\n",
    "A = torch.load(\"data/mnist_act.pt\")['act.1']"
   ]
  },
  {
   "cell_type": "code",
   "execution_count": null,
   "metadata": {
    "collapsed": false,
    "pycharm": {
     "name": "#%%\n"
    }
   },
   "outputs": [],
   "source": [
    "import torch\n",
    "# Weight matrix of a fully connected neural network (trained on MNIST)\n",
    "A = torch.load(\"data/mnist_fc.pt\")['fc2.weight']"
   ]
  },
  {
   "cell_type": "markdown",
   "metadata": {
    "collapsed": false,
    "pycharm": {
     "name": "#%% md\n"
    }
   },
   "source": [
    "# 2. Rank v.s. Speed up\n",
    "\n",
    "In this following cell(s), please plot the number of ranks preserved for A matrix (in the x-axis)\n",
    "and the speed up of matrix-matrix multiply (in the y-axis, measured by both FLOPs and clock time)\n",
    "\n",
    "You can assume both matrix A and B are using the same number of rank when approximating."
   ]
  },
  {
   "cell_type": "code",
   "execution_count": null,
   "metadata": {
    "collapsed": false,
    "pycharm": {
     "name": "#%%\n"
    }
   },
   "outputs": [],
   "source": [
    "import torch\n",
    "# Intermediate activation of a Fully connected network (trained on MNIST)\n",
    "A = torch.load(\"data/mnist_act.pt\")['act.1']\n",
    "\n",
    "# Weight matrix of a fully connected neural network (trained on MNIST)\n",
    "B = torch.load(\"data/mnist_fc.pt\")['fc2.weight'].transpose(0, 1)\n",
    "\n"
   ]
  }
 ],
 "metadata": {
  "kernelspec": {
   "display_name": "Python 3",
   "language": "python",
   "name": "python3"
  },
  "language_info": {
   "codemirror_mode": {
    "name": "ipython",
    "version": 2
   },
   "file_extension": ".py",
   "mimetype": "text/x-python",
   "name": "python",
   "nbconvert_exporter": "python",
   "pygments_lexer": "ipython2",
   "version": "2.7.6"
  }
 },
 "nbformat": 4,
 "nbformat_minor": 0
}
