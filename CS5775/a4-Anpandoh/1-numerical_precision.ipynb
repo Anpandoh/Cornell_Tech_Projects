{
 "cells": [
  {
   "cell_type": "markdown",
   "metadata": {},
   "source": [
    "# Numerical Precision\n",
    "\n",
    "In this section, you will investigate how different convolution\n",
    "and matrix-matrix multiplication kernel performs when changing the\n",
    "numerical precision."
   ]
  },
  {
   "cell_type": "markdown",
   "metadata": {},
   "source": [
    "## 1. Set-up"
   ]
  },
  {
   "cell_type": "code",
   "execution_count": null,
   "metadata": {
    "pycharm": {
     "name": "#%%\n"
    }
   },
   "outputs": [],
   "source": [
    "# Mount google drive\n",
    "from google.colab import drive\n",
    "drive.mount('/content/gdrive')"
   ]
  },
  {
   "cell_type": "code",
   "execution_count": null,
   "metadata": {
    "pycharm": {
     "name": "#%%\n"
    }
   },
   "outputs": [],
   "source": [
    "# Make sure your token is stored in a txt file at the location below.\n",
    "# This way there is no risk that you will push it to your repo\n",
    "# Never share your token with anyone, it is basically your github password!\n",
    "with open('/content/gdrive/MyDrive/ece5545/token.txt') as f:\n",
    "    token = f.readline().strip()\n",
    "# Use another file to store your github username\n",
    "with open('/content/gdrive/MyDrive/ece5545/git_username.txt') as f:\n",
    "    handle = f.readline().strip()"
   ]
  },
  {
   "cell_type": "code",
   "execution_count": null,
   "metadata": {
    "pycharm": {
     "name": "#%%\n"
    }
   },
   "outputs": [],
   "source": [
    "# Clone your github repo\n",
    "YOUR_TOKEN = token\n",
    "YOUR_HANDLE = handle\n",
    "BRANCH = \"main\"\n",
    "\n",
    "%mkdir /content/gdrive/MyDrive/ece5545\n",
    "%cd /content/gdrive/MyDrive/ece5545\n",
    "!git clone https://{YOUR_TOKEN}@github.com/ML-HW-SYS/a4-{YOUR_HANDLE}.git\n",
    "%cd /content/gdrive/MyDrive/ece5545/a4-{YOUR_HANDLE}\n",
    "!git checkout {BRANCH}\n",
    "!git pull\n",
    "\n",
    "PROJECT_ROOT = f\"/content/gdrive/MyDrive/ece5545/a4-{YOUR_HANDLE}\""
   ]
  },
  {
   "cell_type": "code",
   "execution_count": null,
   "metadata": {
    "pycharm": {
     "name": "#%%\n"
    }
   },
   "outputs": [],
   "source": [
    "# This extension reloads all imports before running each cell\n",
    "%load_ext autoreload\n",
    "%autoreload 2"
   ]
  },
  {
   "cell_type": "markdown",
   "metadata": {},
   "source": [
    "Verify the following cell prints your github repository."
   ]
  },
  {
   "cell_type": "code",
   "execution_count": null,
   "metadata": {
    "pycharm": {
     "name": "#%%\n"
    }
   },
   "outputs": [],
   "source": [
    "!ls {PROJECT_ROOT}"
   ]
  },
  {
   "cell_type": "code",
   "execution_count": null,
   "metadata": {
    "collapsed": false,
    "pycharm": {
     "name": "#%%\n"
    }
   },
   "outputs": [],
   "source": [
    "!pip install torch numpy matplotlib"
   ]
  },
  {
   "cell_type": "markdown",
   "metadata": {},
   "source": [
    "# 2. Convolution\n",
    "\n",
    "In the following cell(s), please plot the reconstruction error of an\n",
    "approximated tensor (in the y-axis) with the numerical precision\n",
    "(in the x-axis). Please show one plot for `winograd` and one plot for `fft`."
   ]
  },
  {
   "cell_type": "code",
   "execution_count": null,
   "metadata": {
    "pycharm": {
     "name": "#%%\n"
    }
   },
   "outputs": [],
   "source": [
    "import torch\n",
    "import numpy as np\n",
    "import matplotlib.pyplot as plt\n",
    "from src.conv2d import conv2d\n",
    "from src.matmul import matmul\n",
    "\n",
    "def test_conv2d_precision(method, input_size=32, kernel_size=3, trials=100):\n",
    "    \"\"\"Test conv2d reconstruction error across different precisions\"\"\"\n",
    "    precisions = [torch.float16, torch.float32, torch.float64]\n",
    "    errors = []\n",
    "    \n",
    "    for precision in precisions:\n",
    "        trial_errors = []\n",
    "        for _ in range(trials):\n",
    "            # Generate random input and kernel\n",
    "            x = torch.randn(input_size, input_size, dtype=precision)\n",
    "            k = torch.randn(kernel_size, kernel_size, dtype=precision)\n",
    "            b = torch.randn(1, dtype=precision)\n",
    "            \n",
    "            # Get reference output using torch implementation\n",
    "            ref = conv2d(x, k, b, method='torch')\n",
    "            \n",
    "            # Get output from tested method\n",
    "            out = conv2d(x, k, b, method=method)\n",
    "            \n",
    "            # Calculate relative error\n",
    "            error = torch.norm(out - ref) / torch.norm(ref)\n",
    "            trial_errors.append(error.item())\n",
    "            \n",
    "        errors.append(np.mean(trial_errors))\n",
    "    \n",
    "    return precisions, errors\n",
    "\n",
    "# Test different conv2d methods\n",
    "methods = ['winograd', 'fft']\n",
    "plt.figure(figsize=(10, 6))\n",
    "\n",
    "for method in methods:\n",
    "    precisions, errors = test_conv2d_precision(method)\n",
    "    plt.plot([p for p in precisions], errors, 'o-', label=method)\n",
    "\n",
    "plt.yscale('log')\n",
    "plt.xlabel('Precision')\n",
    "plt.ylabel('Relative Error')\n",
    "plt.title('Conv2D Reconstruction Error vs Precision')\n",
    "plt.legend()\n",
    "plt.grid(True)\n",
    "plt.show()"
   ]
  },
  {
   "cell_type": "code",
   "execution_count": null,
   "metadata": {
    "pycharm": {
     "name": "#%%\n"
    }
   },
   "outputs": [],
   "source": [
    "from src.conv2d import fft\n",
    "# TODO: plot the error v.s. precision curve"
   ]
  },
  {
   "cell_type": "markdown",
   "metadata": {},
   "source": [
    "# 3. Matrix-matrix Multiply\n",
    "\n",
    "In the following cell(s), please plot the reconstruction error (in the y-axis)\n",
    "with the different numerical precisions (in the x-axis) for `log` (i.e.\n",
    "logorithmic matrix-matrix multiplication)."
   ]
  },
  {
   "cell_type": "code",
   "execution_count": null,
   "metadata": {
    "pycharm": {
     "name": "#%%\n"
    }
   },
   "outputs": [],
   "source": [
    "def test_matmul_precision(method, size=128, trials=100):\n",
    "    \"\"\"Test matmul reconstruction error across different precisions\"\"\"\n",
    "    precisions = [torch.float16, torch.float32, torch.float64]\n",
    "    errors = []\n",
    "    \n",
    "    for precision in precisions:\n",
    "        trial_errors = []\n",
    "        for _ in range(trials):\n",
    "            # Generate random matrices\n",
    "            A = torch.randn(size, size, dtype=precision)\n",
    "            B = torch.randn(size, size, dtype=precision)\n",
    "            \n",
    "            # Get reference output using torch implementation\n",
    "            ref = matmul(A, B, method='torch')\n",
    "            \n",
    "            # Get output from tested method\n",
    "            out = matmul(A, B, method=method)\n",
    "            \n",
    "            # Calculate relative error\n",
    "            error = torch.norm(out - ref) / torch.norm(ref)\n",
    "            trial_errors.append(error.item())\n",
    "            \n",
    "        errors.append(np.mean(trial_errors))\n",
    "    \n",
    "    return precisions, errors\n",
    "\n",
    "# Test different matmul methods\n",
    "methods = ['log']\n",
    "plt.figure(figsize=(10, 6))\n",
    "\n",
    "for method in methods:\n",
    "    precisions, errors = test_matmul_precision(method)\n",
    "    plt.plot([p for p in precisions], errors, 'o-', label=method)\n",
    "\n",
    "plt.yscale('log')\n",
    "plt.xlabel('Precision')\n",
    "plt.ylabel('Relative Error')\n",
    "plt.title('MatMul Reconstruction Error vs Precision')\n",
    "plt.legend()\n",
    "plt.grid(True)\n",
    "plt.show()"
   ]
  }
 ],
 "metadata": {
  "kernelspec": {
   "display_name": "Python 3 (ipykernel)",
   "language": "python",
   "name": "python3"
  },
  "language_info": {
   "codemirror_mode": {
    "name": "ipython",
    "version": 3
   },
   "file_extension": ".py",
   "mimetype": "text/x-python",
   "name": "python",
   "nbconvert_exporter": "python",
   "pygments_lexer": "ipython3",
   "version": "3.8.3"
  }
 },
 "nbformat": 4,
 "nbformat_minor": 1
}
